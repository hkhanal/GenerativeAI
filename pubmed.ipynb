{
  "nbformat": 4,
  "nbformat_minor": 0,
  "metadata": {
    "colab": {
      "provenance": []
    },
    "kernelspec": {
      "name": "python3",
      "display_name": "Python 3"
    },
    "language_info": {
      "name": "python"
    }
  },
  "cells": [
    {
      "cell_type": "markdown",
      "source": [
        "PubMed is a free resource supporting the search and retrieval of biomedical and life sciences literature with the aim of improving health–both globally and personally.\n",
        "The PubMed database contains more than 35 million citations and abstracts of biomedical literature. It does not include full text journal articles; however, links to the full text are often present when available from other sources, such as the publisher's website or PubMed Central (PMC).\n",
        "Available to the public online since 1996, PubMed was developed and is maintained by the National Center for Biotechnology Information (NCBI), at the U.S. National Library of Medicine (NLM), located at the National Institutes of Health (NIH)."
      ],
      "metadata": {
        "id": "E9wgw-lB3G75"
      }
    },
    {
      "cell_type": "markdown",
      "source": [
        "\n",
        "\n",
        "*   Install pubmed python API packge\n",
        "*   Get abstracts\n",
        "*   Clean texts\n",
        "*   Save data\n"
      ],
      "metadata": {
        "id": "MSFhLiTX3iR1"
      }
    },
    {
      "cell_type": "markdown",
      "source": [
        "Intall package if it has not been installed before"
      ],
      "metadata": {
        "id": "4OvEexbCy3Tg"
      }
    },
    {
      "cell_type": "code",
      "execution_count": null,
      "metadata": {
        "id": "Itq5EjGxDbcv"
      },
      "outputs": [],
      "source": [
        "#! pip install metapub"
      ]
    },
    {
      "cell_type": "code",
      "source": [
        "import pandas as pd\n",
        "import numpy as np\n",
        "import matplotlib.pyplot as plt\n",
        "from google.colab import drive\n",
        "drive.mount('gdrive')\n",
        "import os"
      ],
      "metadata": {
        "id": "OM4h28wGDktz"
      },
      "execution_count": null,
      "outputs": []
    },
    {
      "cell_type": "code",
      "source": [
        "data_dir = \"/content/gdrive/My Drive/DagDataScienceMaterial/data_folder/TextFolder/\"\n"
      ],
      "metadata": {
        "id": "H3-T6qf5D_Kq"
      },
      "execution_count": null,
      "outputs": []
    },
    {
      "cell_type": "code",
      "source": [
        "#Extract the abstract using the keywords\n",
        "\n",
        "\n",
        "def get_pubmed_abs(keywords, num_article):\n",
        "  from metapub import PubMedFetcher\n",
        "  fetch = PubMedFetcher()\n",
        "  pmids = fetch.pmids_for_query(keywords, retmax=num_article)\n",
        "  abstracts = {}\n",
        "  for pmid in pmids:\n",
        "    abstracts[pmid] = fetch.article_by_pmid(pmid).abstract\n",
        "  Abstract = pd.DataFrame(list(abstracts.items()),columns = ['pmid','Abstract'])\n",
        "  return Abstract\n",
        "\n",
        "def get_pubmed_title(keywords, num_article):\n",
        "  from metapub import PubMedFetcher\n",
        "  fetch = PubMedFetcher()\n",
        "  pmids = fetch.pmids_for_query(keywords, retmax=num_article)\n",
        "  abstracts = {}\n",
        "  for pmid in pmids:\n",
        "    abstracts[pmid] = fetch.article_by_pmid(pmid).title\n",
        "  Abstract = pd.DataFrame(list(abstracts.items()),columns = ['pmid','Title'])\n",
        "  return Abstract"
      ],
      "metadata": {
        "id": "4BsOOGysEqIT"
      },
      "execution_count": null,
      "outputs": []
    },
    {
      "cell_type": "code",
      "source": [
        "keyword = \"covid\"\n",
        "num_article = 300"
      ],
      "metadata": {
        "id": "71NrYJYsHtmw"
      },
      "execution_count": null,
      "outputs": []
    },
    {
      "cell_type": "code",
      "source": [
        "df_abs = get_pubmed_abs(keyword, num_article)"
      ],
      "metadata": {
        "id": "s7n0BpPAH9Oq"
      },
      "execution_count": null,
      "outputs": []
    },
    {
      "cell_type": "code",
      "source": [
        "df_abs.dropna(inplace = True)\n",
        "df_abs.head()"
      ],
      "metadata": {
        "id": "Yzsdka4VIGdA"
      },
      "execution_count": null,
      "outputs": []
    },
    {
      "cell_type": "code",
      "source": [
        "df_abs[\"Abstract\"] = df_abs[\"Abstract\"]\\\n",
        ".apply(lambda x: x.replace(\"INTRODUCTION:\",\"\"))\\\n",
        ".apply(lambda x: x.replace(\"IMPORTANCE:\",\"\"))\\\n",
        ".apply(lambda x: x.replace(\"BACKGROUND:\",\"\"))"
      ],
      "metadata": {
        "id": "UBBGMl27IURm"
      },
      "execution_count": null,
      "outputs": []
    },
    {
      "cell_type": "code",
      "source": [
        "df_abs.head()"
      ],
      "metadata": {
        "id": "GqQDmqmUIhis"
      },
      "execution_count": null,
      "outputs": []
    },
    {
      "cell_type": "markdown",
      "source": [
        "**Clean text remove puctuations**"
      ],
      "metadata": {
        "id": "kK3IS-tqyaNB"
      }
    },
    {
      "cell_type": "code",
      "source": [
        "def cleanup_text(text):\n",
        "    import re\n",
        "    # remove punctuation\n",
        "    text = re.sub('[^a-zA-Z0-9]', ' ', text)\n",
        "    # remove multiple spaces\n",
        "    text = re.sub(r' +', ' ', text)\n",
        "    # remove newline\n",
        "    text = re.sub(r'\\n', ' ', text)\n",
        "    return text"
      ],
      "metadata": {
        "id": "aIm9dy6KL96S"
      },
      "execution_count": null,
      "outputs": []
    },
    {
      "cell_type": "markdown",
      "source": [
        "**Save text data into the csv file **"
      ],
      "metadata": {
        "id": "722-FcXwyntx"
      }
    },
    {
      "cell_type": "code",
      "source": [
        "df_abs[\"Abstract\"] = df_abs[\"Abstract\"].apply(lambda x: cleanup_text(x))"
      ],
      "metadata": {
        "id": "aDgZAF1bMbvm"
      },
      "execution_count": null,
      "outputs": []
    },
    {
      "cell_type": "code",
      "source": [
        "df_abs.to_csv(os.path.join(data_dir, \"pubmed_abs.csv\"), index = False)"
      ],
      "metadata": {
        "id": "XIMOLAWyKfKH"
      },
      "execution_count": null,
      "outputs": []
    }
  ]
}